{
 "cells": [
  {
   "cell_type": "markdown",
   "id": "607e8b23",
   "metadata": {},
   "source": [
    "# 1 .Which of the following scenarios could realistically introduce a hot spot in a system?\n",
    "## ✅ Final Answer Summary:\n",
    "\n",
    "| Scenario                                                                 | Is Hot Spot Possible? | Why                                                                 |\n",
    "|-------------------------------------------------------------------------|------------------------|----------------------------------------------------------------------|\n",
    "| Sudden surge of traffic from a region                                   | ✅ Yes                | Overloads specific regional servers                                 |\n",
    "| Round robin load balancer strategy                                      | ❌ No                 | Distributes traffic evenly unless backend nodes are uneven          |\n",
    "| Failure of async DB replication                                         | ✅ Yes                | All traffic hits primary DB                                         |\n",
    "| Social trend from users named Alex/Alexa                                | ✅ Yes                | Causes skewed access to specific shards/partitions                  |"
   ]
  },
  {
   "cell_type": "markdown",
   "id": "01f959b6",
   "metadata": {},
   "source": [
    "# 2. The following are all real acronyms in the field of systems design ?\n",
    "\n",
    "\n",
    "| Acronym Set                     | All Real? | Relevance in System Design |\n",
    "|--------------------------------|-----------|-----------------------------|\n",
    "| TCP, SLO, S3, HDFS             | ✅ Yes    | ✅ Very High                |\n",
    "| DOS, YAML, POP, RAM            | ❌ Mixed  | ⚠️ Partially Relevant       |\n",
    "| GCS, LTM, HTTP, ACID           | ✅ Yes    | ✅ Very High                |\n",
    "| CDN, SQL, DNS, IP              | ✅ Yes    | ✅ Very High                |"
   ]
  }
 ],
 "metadata": {
  "language_info": {
   "name": "python"
  }
 },
 "nbformat": 4,
 "nbformat_minor": 5
}
